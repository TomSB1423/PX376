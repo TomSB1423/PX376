{
 "cells": [
  {
   "cell_type": "code",
   "execution_count": 413,
   "metadata": {},
   "outputs": [],
   "source": [
    "import numpy as np\n",
    "import matplotlib.pyplot as plt"
   ]
  },
  {
   "cell_type": "code",
   "execution_count": 414,
   "metadata": {},
   "outputs": [],
   "source": [
    "class Rocket:\n",
    "    def __init__(self, mass, initial_vel, fuel_mass, fuel_vel, shots):\n",
    "        self.mass = mass + fuel_mass\n",
    "        self.initial_mass = mass + fuel_mass\n",
    "        self.vel = initial_vel\n",
    "        self.fuel = self.Fuel(fuel_mass, fuel_vel, shots)\n",
    "    \n",
    "    def update_vel(self):\n",
    "        pellet_mass, fuel_vel = self.fuel.get_data()\n",
    "        self.vel += fuel_vel * np.log(self.mass/(self.mass-pellet_mass))\n",
    "        self.mass -= pellet_mass\n",
    "        return self.vel\n",
    "    \n",
    "    def get_vel(self):\n",
    "        return self.vel\n",
    "    \n",
    "    class Fuel:\n",
    "        def __init__(self, fuel_mass, fuel_vel, num_shots):\n",
    "            self.num_shots = num_shots\n",
    "            self.fuel_vel = fuel_vel\n",
    "            self.pellet_mass = fuel_mass / num_shots\n",
    "        \n",
    "        def get_data(self):\n",
    "            return self.pellet_mass, self.fuel_vel"
   ]
  },
  {
   "cell_type": "code",
   "execution_count": 415,
   "metadata": {},
   "outputs": [],
   "source": [
    "##### Variables #####\n",
    "time = 200\n",
    "shots = [2, 5, 50, 1000]\n",
    "fuel_mass = 200\n",
    "rocket_mass = 100\n",
    "rocket_vel = 0\n",
    "fuel_vel = 100"
   ]
  },
  {
   "cell_type": "code",
   "execution_count": 416,
   "metadata": {},
   "outputs": [],
   "source": [
    "senarios = []\n",
    "for shot in shots:\n",
    "    senarios.append(Rocket(rocket_mass, rocket_vel, fuel_mass, fuel_vel, shot))\n",
    "\n",
    "times = []\n",
    "vels = []\n",
    "for i in range(len(shots)):\n",
    "    times.append([0] + [(time / shots[i]) * (j + 1) for j in range(shots[i])])\n",
    "    vels.append([senarios[i].get_vel()] + [0 for j in range(shots[i])])"
   ]
  },
  {
   "cell_type": "code",
   "execution_count": 417,
   "metadata": {},
   "outputs": [],
   "source": [
    "for i in range(len(shots)):\n",
    "    rocket = senarios[i]\n",
    "    for j in range(1, shots[i] + 1):\n",
    "        vels[i][j] = rocket.update_vel()"
   ]
  },
  {
   "cell_type": "code",
   "execution_count": 421,
   "metadata": {},
   "outputs": [
    {
     "data": {
      "text/plain": [
       "Text(0, 0.5, 'Rocket velocity (m/s)')"
      ]
     },
     "execution_count": 421,
     "metadata": {},
     "output_type": "execute_result"
    },
    {
     "data": {
      "image/png": "[encoded data removed]",
      "text/plain": [
       "<Figure size 432x288 with 1 Axes>"
      ]
     },
     "metadata": {
      "needs_background": "light"
     },
     "output_type": "display_data"
    }
   ],
   "source": [
    "for i in range(len(shots)):\n",
    "    label = f\"Ejections: {shots[i]}\" if i != 0 else f\"Ejections: Continuous\"\n",
    "    plt.step(times[i], vels[i], where=\"mid\", label=label)\n",
    "plt.legend()\n",
    "plt.grid()\n",
    "plt.xlabel(\"Time (s)\")\n",
    "plt.ylabel(\"Rocket velocity (m/s)\")\n",
    "#plt.savefig('plot.png', dpi=1000)"
   ]
  }
 ],
 "metadata": {
  "interpreter": {
   "hash": "750c498cb580999c924fa984b53ec434c323da766a842d982bdc6ecb1af7ef0d"
  },
  "kernelspec": {
   "display_name": "Python 3.9.8 64-bit ('.venv': venv)",
   "language": "python",
   "name": "python3"
  },
  "language_info": {
   "codemirror_mode": {
    "name": "ipython",
    "version": 3
   },
   "file_extension": ".py",
   "mimetype": "text/x-python",
   "name": "python",
   "nbconvert_exporter": "python",
   "pygments_lexer": "ipython3",
   "version": "3.9.8"
  },
  "orig_nbformat": 4
 },
 "nbformat": 4,
 "nbformat_minor": 2
}
